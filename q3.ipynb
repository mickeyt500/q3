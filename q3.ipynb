{
 "cells": [
  {
   "cell_type": "markdown",
   "metadata": {},
   "source": [
    "## Question 3: ACME Corp"
   ]
  },
  {
   "cell_type": "markdown",
   "metadata": {},
   "source": [
    "Baseline: 32 quotes out of 595 viewers  \n",
    "Variation 1: 30 quotes out of 599 viewers  \n",
    "Variation 2: 18 quotes out of 622 viewers  \n",
    "Variation 3: 51 quotes out of 606 viewers  \n",
    "Variation 4: 38 quotes out of 578 viewers  "
   ]
  },
  {
   "cell_type": "markdown",
   "metadata": {},
   "source": [
    "### What's your interpretation of these results?"
   ]
  },
  {
   "cell_type": "markdown",
   "metadata": {},
   "source": [
    "Let's assume Baseline is the control group and following are our Experimental Groups:"
   ]
  },
  {
   "cell_type": "markdown",
   "metadata": {},
   "source": [
    "- Variation 1\n",
    "- Variation 2\n",
    "- Variation 3\n",
    "- Variation 4"
   ]
  },
  {
   "cell_type": "markdown",
   "metadata": {},
   "source": [
    "Some other assumptions we will be making:\n",
    "\n",
    "1. Our **Null Hypothesis** states that the Experimental results result in a better Click Through Rate (CTR) than our existing model.\n",
    "2. We will use a 95% confidence level on a two-tail test. Assuming a Binomial distribution as x, the number of clicks is greater than 5.\n",
    "3. We will assume Business wants a minimum 2% improvement over the current model."
   ]
  },
  {
   "cell_type": "markdown",
   "metadata": {},
   "source": [
    "We first import all the modules and setup our data."
   ]
  },
  {
   "cell_type": "code",
   "execution_count": 68,
   "metadata": {
    "collapsed": true
   },
   "outputs": [],
   "source": [
    "import pandas as pd\n",
    "import numpy as np\n",
    "import matplotlib.pyplot as plt"
   ]
  },
  {
   "cell_type": "code",
   "execution_count": 69,
   "metadata": {},
   "outputs": [],
   "source": [
    "data = [{'Bucket':'Baseline','Quotes':32,'Views':595},\n",
    "        {'Bucket':'Variation 1','Quotes':30,'Views':599},\n",
    "        {'Bucket':'Variation 2','Quotes':18,'Views':622},\n",
    "        {'Bucket':'Variation 3','Quotes':51,'Views':606},\n",
    "        {'Bucket':'Variation 4','Quotes':38,'Views':578}]\n",
    "\n",
    "df = pd.DataFrame(data).set_index(['Bucket'])"
   ]
  },
  {
   "cell_type": "markdown",
   "metadata": {},
   "source": [
    "Next we calculate the following for each variation:\n",
    "\n",
    "1. Pooled Probability: Probability of the experimental and baseline model\n",
    "2. Pooled Standard Error: Standard error for the experimental and baseline model\n",
    "3. Estimated Difference: Difference between experimental and baseline model\n",
    "4. Margin Error: Margin error using a z-score for 95% two-tail confidence level\n",
    "5. Lower & Upper Boundaries for the estimated difference "
   ]
  },
  {
   "cell_type": "code",
   "execution_count": 70,
   "metadata": {
    "scrolled": true
   },
   "outputs": [],
   "source": [
    "z = 1.96 # 95% Confidence level for a 2-tail test\n",
    "min_diff = 0.02 # Assume minimum 2% significance level for click through\n",
    "\n",
    "df['Pooled Probability'] = (df.Quotes + 32) / (df.Views + 595)\n",
    "df['Pooled SE'] = (df['Pooled Probability']*\n",
    "                   (1-df['Pooled Probability'])*(1/595 + 1/df.Views))**0.5\n",
    "df['Estimated Diff'] = (df.Quotes/df.Views) - (32/595)\n",
    "df['Margin Err'] = df['Pooled SE'] * z\n",
    "df['Lower Bnd'] = df['Estimated Diff'] - df['Margin Err']\n",
    "df['Upper Bnd'] = df['Estimated Diff'] + df['Margin Err']"
   ]
  },
  {
   "cell_type": "code",
   "execution_count": 71,
   "metadata": {},
   "outputs": [
    {
     "data": {
      "text/html": [
       "<div>\n",
       "<style>\n",
       "    .dataframe thead tr:only-child th {\n",
       "        text-align: right;\n",
       "    }\n",
       "\n",
       "    .dataframe thead th {\n",
       "        text-align: left;\n",
       "    }\n",
       "\n",
       "    .dataframe tbody tr th {\n",
       "        vertical-align: top;\n",
       "    }\n",
       "</style>\n",
       "<table border=\"1\" class=\"dataframe\">\n",
       "  <thead>\n",
       "    <tr style=\"text-align: right;\">\n",
       "      <th></th>\n",
       "      <th>Quotes</th>\n",
       "      <th>Views</th>\n",
       "      <th>Pooled Probability</th>\n",
       "      <th>Pooled SE</th>\n",
       "      <th>Estimated Diff</th>\n",
       "      <th>Margin Err</th>\n",
       "      <th>Lower Bnd</th>\n",
       "      <th>Upper Bnd</th>\n",
       "    </tr>\n",
       "    <tr>\n",
       "      <th>Bucket</th>\n",
       "      <th></th>\n",
       "      <th></th>\n",
       "      <th></th>\n",
       "      <th></th>\n",
       "      <th></th>\n",
       "      <th></th>\n",
       "      <th></th>\n",
       "      <th></th>\n",
       "    </tr>\n",
       "  </thead>\n",
       "  <tbody>\n",
       "    <tr>\n",
       "      <th>Baseline</th>\n",
       "      <td>32</td>\n",
       "      <td>595</td>\n",
       "      <td>0.053782</td>\n",
       "      <td>0.013079</td>\n",
       "      <td>0.000000</td>\n",
       "      <td>0.025634</td>\n",
       "      <td>-0.025634</td>\n",
       "      <td>0.025634</td>\n",
       "    </tr>\n",
       "    <tr>\n",
       "      <th>Variation 1</th>\n",
       "      <td>30</td>\n",
       "      <td>599</td>\n",
       "      <td>0.051926</td>\n",
       "      <td>0.012842</td>\n",
       "      <td>-0.003698</td>\n",
       "      <td>0.025171</td>\n",
       "      <td>-0.028869</td>\n",
       "      <td>0.021473</td>\n",
       "    </tr>\n",
       "    <tr>\n",
       "      <th>Variation 2</th>\n",
       "      <td>18</td>\n",
       "      <td>622</td>\n",
       "      <td>0.041085</td>\n",
       "      <td>0.011382</td>\n",
       "      <td>-0.024843</td>\n",
       "      <td>0.022309</td>\n",
       "      <td>-0.047151</td>\n",
       "      <td>-0.002534</td>\n",
       "    </tr>\n",
       "    <tr>\n",
       "      <th>Variation 3</th>\n",
       "      <td>51</td>\n",
       "      <td>606</td>\n",
       "      <td>0.069109</td>\n",
       "      <td>0.014638</td>\n",
       "      <td>0.030377</td>\n",
       "      <td>0.028691</td>\n",
       "      <td>0.001686</td>\n",
       "      <td>0.059068</td>\n",
       "    </tr>\n",
       "    <tr>\n",
       "      <th>Variation 4</th>\n",
       "      <td>38</td>\n",
       "      <td>578</td>\n",
       "      <td>0.059676</td>\n",
       "      <td>0.013835</td>\n",
       "      <td>0.011962</td>\n",
       "      <td>0.027116</td>\n",
       "      <td>-0.015153</td>\n",
       "      <td>0.039078</td>\n",
       "    </tr>\n",
       "  </tbody>\n",
       "</table>\n",
       "</div>"
      ],
      "text/plain": [
       "             Quotes  Views  Pooled Probability  Pooled SE  Estimated Diff  \\\n",
       "Bucket                                                                      \n",
       "Baseline         32    595            0.053782   0.013079        0.000000   \n",
       "Variation 1      30    599            0.051926   0.012842       -0.003698   \n",
       "Variation 2      18    622            0.041085   0.011382       -0.024843   \n",
       "Variation 3      51    606            0.069109   0.014638        0.030377   \n",
       "Variation 4      38    578            0.059676   0.013835        0.011962   \n",
       "\n",
       "             Margin Err  Lower Bnd  Upper Bnd  \n",
       "Bucket                                         \n",
       "Baseline       0.025634  -0.025634   0.025634  \n",
       "Variation 1    0.025171  -0.028869   0.021473  \n",
       "Variation 2    0.022309  -0.047151  -0.002534  \n",
       "Variation 3    0.028691   0.001686   0.059068  \n",
       "Variation 4    0.027116  -0.015153   0.039078  "
      ]
     },
     "execution_count": 71,
     "metadata": {},
     "output_type": "execute_result"
    }
   ],
   "source": [
    "df"
   ]
  },
  {
   "cell_type": "markdown",
   "metadata": {},
   "source": [
    "Let's go ahead and plot this out."
   ]
  },
  {
   "cell_type": "code",
   "execution_count": 73,
   "metadata": {},
   "outputs": [
    {
     "data": {
      "text/plain": [
       "Quotes                  int64\n",
       "Views                   int64\n",
       "Pooled Probability    float64\n",
       "Pooled SE             float64\n",
       "Estimated Diff        float64\n",
       "Margin Err            float64\n",
       "Lower Bnd             float64\n",
       "Upper Bnd             float64\n",
       "dtype: object"
      ]
     },
     "execution_count": 73,
     "metadata": {},
     "output_type": "execute_result"
    }
   ],
   "source": [
    "df.dtypes"
   ]
  },
  {
   "cell_type": "code",
   "execution_count": 186,
   "metadata": {},
   "outputs": [
    {
     "data": {
      "image/png": "[encoded data removed]",
      "text/plain": [
       "<matplotlib.figure.Figure at 0x1169d3908>"
      ]
     },
     "metadata": {},
     "output_type": "display_data"
    }
   ],
   "source": [
    "plt.figure(figsize=(10,5))\n",
    "y = range(5)\n",
    "num = [-0.02,0.02,0]\n",
    "w = [num[0]] * 5\n",
    "z = [num[1]] * 5\n",
    "v = [num[2]] * 5\n",
    "e = list(df['Margin Err'])\n",
    "plt.errorbar('Estimated Diff',y, xerr=e, capsize=12, fmt='-o',markersize=7, data=df, linestyle='None')\n",
    "plt.plot(w,y, 'r--')\n",
    "plt.plot(z,y, 'r--')\n",
    "plt.plot(v,y, 'k')\n",
    "plt.xlabel('Significance Level in %')\n",
    "plt.ylabel('Variation Bucket')\n",
    "plt.ylim(0.5,4.5)\n",
    "plt.title('Confidence Interval Cases')\n",
    "plt.tick_params(bottom=\"off\", top=\"off\", left=\"off\", right=\"off\")\n",
    "plt.gca().spines['right'].set_visible(False)\n",
    "plt.gca().spines['top'].set_visible(False)\n",
    "plt.gca().spines['left'].set_visible(False)\n",
    "plt.gca().spines['bottom'].set_visible(False)\n",
    "plt.show()"
   ]
  },
  {
   "cell_type": "markdown",
   "metadata": {},
   "source": [
    "From the above plot it can clearly be seen that one of the experimental variation, does infact meet our 2% improvement requirement. Based on this, we can proceed to **Reject the Null Hypothesis.**"
   ]
  },
  {
   "cell_type": "markdown",
   "metadata": {},
   "source": [
    "### What conclusions would you draw?"
   ]
  },
  {
   "cell_type": "markdown",
   "metadata": {},
   "source": [
    "Looking at all the 4 varaitions we can conclude that only **Variation 3** has an estimated difference above our positive significance level. Although our lower boundary comes closer to our original model (i.e. zero estimated difference), it can be estimated with a 95% confidence level that this Variation will perform better than our baseline model.  \n",
    "\n",
    "We should look to gather additional data by runing an additional test on Variation 4 and eliminate Variations 1 & 2."
   ]
  },
  {
   "cell_type": "markdown",
   "metadata": {},
   "source": [
    "### What questions would you ask me about my goals and methodology? Do you have any thoughts on the experimental design? "
   ]
  },
  {
   "cell_type": "markdown",
   "metadata": {},
   "source": [
    "What is the desired value for the practical significance level you had in mind for the Variations?  \n",
    "Was the data collected for the same kind of category?  \n",
    "Were the visitor counts unique? Using Click Through Probability is more reliable to calculate conversion rates  \n",
    "Was the data collected during normal business hours and on the same weekdays? People tend to view things on Friday and push them out to Monday, these could be later converts for the views.  \n",
    "Were these requests sent in the same format and medium? e.g text, email etc. \n",
    "Was this data collected withing a restricted time period? Incase the data collection was cut off while some quotes were being submitted?  \n",
    "Increasing the sample size per variation will enable a higher confidence level."
   ]
  }
 ],
 "metadata": {
  "kernelspec": {
   "display_name": "Python 3",
   "language": "python",
   "name": "python3"
  },
  "language_info": {
   "codemirror_mode": {
    "name": "ipython",
    "version": 3
   },
   "file_extension": ".py",
   "mimetype": "text/x-python",
   "name": "python",
   "nbconvert_exporter": "python",
   "pygments_lexer": "ipython3",
   "version": "3.6.2"
  }
 },
 "nbformat": 4,
 "nbformat_minor": 2
}
